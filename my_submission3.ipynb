{
  "nbformat": 4,
  "nbformat_minor": 0,
  "metadata": {
    "colab": {
      "name": "fare-classification_rashmini.ipynb",
      "provenance": []
    },
    "kernelspec": {
      "name": "python3",
      "display_name": "Python 3"
    },
    "accelerator": "GPU"
  },
  "cells": [
    {
      "cell_type": "code",
      "metadata": {
        "id": "NHsxjXJcSSr7",
        "colab_type": "code",
        "outputId": "aa7aa775-7da2-4b5f-c45d-f884f3ebbbac",
        "colab": {
          "base_uri": "https://localhost:8080/",
          "height": 122
        }
      },
      "source": [
        "from google.colab import drive\n",
        "drive.mount('/content/drive/')"
      ],
      "execution_count": 1,
      "outputs": [
        {
          "output_type": "stream",
          "text": [
            "Go to this URL in a browser: https://accounts.google.com/o/oauth2/auth?client_id=947318989803-6bn6qk8qdgf4n4g3pfee6491hc0brc4i.apps.googleusercontent.com&redirect_uri=urn%3aietf%3awg%3aoauth%3a2.0%3aoob&response_type=code&scope=email%20https%3a%2f%2fwww.googleapis.com%2fauth%2fdocs.test%20https%3a%2f%2fwww.googleapis.com%2fauth%2fdrive%20https%3a%2f%2fwww.googleapis.com%2fauth%2fdrive.photos.readonly%20https%3a%2f%2fwww.googleapis.com%2fauth%2fpeopleapi.readonly\n",
            "\n",
            "Enter your authorization code:\n",
            "··········\n",
            "Mounted at /content/drive/\n"
          ],
          "name": "stdout"
        }
      ]
    },
    {
      "cell_type": "code",
      "metadata": {
        "id": "suUgE_EWSkJH",
        "colab_type": "code",
        "outputId": "7ac2c6f3-6eeb-4be6-83ef-d4a90a783bf6",
        "colab": {
          "base_uri": "https://localhost:8080/",
          "height": 34
        }
      },
      "source": [
        "cd \"/content/drive/My Drive/MachineLearningMy\"\n",
        "ls"
      ],
      "execution_count": 2,
      "outputs": [
        {
          "output_type": "stream",
          "text": [
            "/content/drive/My Drive/MachineLearningMy\n"
          ],
          "name": "stdout"
        }
      ]
    },
    {
      "cell_type": "code",
      "metadata": {
        "id": "5XwotHKhSrOS",
        "colab_type": "code",
        "colab": {
          "base_uri": "https://localhost:8080/",
          "height": 357
        },
        "outputId": "9dbbfe6c-465b-43cb-f085-4b4622aba9ae"
      },
      "source": [
        "from pathlib import Path\n",
        "\n",
        "import numpy as np\n",
        "import pandas as pd\n",
        "\n",
        "pd.set_option(\"display.max_columns\", 100)\n",
        "\n",
        "DATA_PATH = Path.cwd().parent / \"data\" / \"final\" / \"public\"\n",
        "\n",
        "train_df = pd.read_csv(\n",
        "    DATA_PATH / \"/content/drive/My Drive/MachineLearningMy/train.csv\", \n",
        "    index_col=\"tripid\"\n",
        ")\n",
        "test_features_df = pd.read_csv(\n",
        "    DATA_PATH / \"/content/drive/My Drive/MachineLearningMy/test.csv\", \n",
        "    index_col=\"tripid\"\n",
        ")\n",
        "\n",
        "labels_df = train_df[['label']]\n",
        "features_df = train_df.drop('label', axis=1)\n",
        "\n",
        "print(\"features_df.shape\", features_df.shape)\n",
        "features_df.head()"
      ],
      "execution_count": 5,
      "outputs": [
        {
          "output_type": "stream",
          "text": [
            "features_df.shape (17176, 12)\n"
          ],
          "name": "stdout"
        },
        {
          "output_type": "execute_result",
          "data": {
            "text/html": [
              "<div>\n",
              "<style scoped>\n",
              "    .dataframe tbody tr th:only-of-type {\n",
              "        vertical-align: middle;\n",
              "    }\n",
              "\n",
              "    .dataframe tbody tr th {\n",
              "        vertical-align: top;\n",
              "    }\n",
              "\n",
              "    .dataframe thead th {\n",
              "        text-align: right;\n",
              "    }\n",
              "</style>\n",
              "<table border=\"1\" class=\"dataframe\">\n",
              "  <thead>\n",
              "    <tr style=\"text-align: right;\">\n",
              "      <th></th>\n",
              "      <th>additional_fare</th>\n",
              "      <th>duration</th>\n",
              "      <th>meter_waiting</th>\n",
              "      <th>meter_waiting_fare</th>\n",
              "      <th>meter_waiting_till_pickup</th>\n",
              "      <th>pickup_time</th>\n",
              "      <th>drop_time</th>\n",
              "      <th>pick_lat</th>\n",
              "      <th>pick_lon</th>\n",
              "      <th>drop_lat</th>\n",
              "      <th>drop_lon</th>\n",
              "      <th>fare</th>\n",
              "    </tr>\n",
              "    <tr>\n",
              "      <th>tripid</th>\n",
              "      <th></th>\n",
              "      <th></th>\n",
              "      <th></th>\n",
              "      <th></th>\n",
              "      <th></th>\n",
              "      <th></th>\n",
              "      <th></th>\n",
              "      <th></th>\n",
              "      <th></th>\n",
              "      <th></th>\n",
              "      <th></th>\n",
              "      <th></th>\n",
              "    </tr>\n",
              "  </thead>\n",
              "  <tbody>\n",
              "    <tr>\n",
              "      <th>189123628</th>\n",
              "      <td>10.5</td>\n",
              "      <td>834.0</td>\n",
              "      <td>56.0</td>\n",
              "      <td>0.0000</td>\n",
              "      <td>64.0</td>\n",
              "      <td>11/1/2019 0:20</td>\n",
              "      <td>11/1/2019 0:34</td>\n",
              "      <td>6.86252</td>\n",
              "      <td>79.8993</td>\n",
              "      <td>6.90330</td>\n",
              "      <td>79.8783</td>\n",
              "      <td>270.32</td>\n",
              "    </tr>\n",
              "    <tr>\n",
              "      <th>189125358</th>\n",
              "      <td>10.5</td>\n",
              "      <td>791.0</td>\n",
              "      <td>47.0</td>\n",
              "      <td>0.0000</td>\n",
              "      <td>134.0</td>\n",
              "      <td>11/1/2019 0:56</td>\n",
              "      <td>11/1/2019 1:09</td>\n",
              "      <td>6.88589</td>\n",
              "      <td>79.8984</td>\n",
              "      <td>6.91373</td>\n",
              "      <td>79.8923</td>\n",
              "      <td>197.85</td>\n",
              "    </tr>\n",
              "    <tr>\n",
              "      <th>189125719</th>\n",
              "      <td>10.5</td>\n",
              "      <td>1087.0</td>\n",
              "      <td>80.0</td>\n",
              "      <td>0.0000</td>\n",
              "      <td>61.0</td>\n",
              "      <td>11/1/2019 1:08</td>\n",
              "      <td>11/1/2019 1:26</td>\n",
              "      <td>6.90839</td>\n",
              "      <td>79.8651</td>\n",
              "      <td>6.93669</td>\n",
              "      <td>79.9146</td>\n",
              "      <td>301.64</td>\n",
              "    </tr>\n",
              "    <tr>\n",
              "      <th>189127273</th>\n",
              "      <td>10.5</td>\n",
              "      <td>598.0</td>\n",
              "      <td>271.0</td>\n",
              "      <td>15.6638</td>\n",
              "      <td>68.0</td>\n",
              "      <td>11/1/2019 2:27</td>\n",
              "      <td>11/1/2019 2:37</td>\n",
              "      <td>6.92570</td>\n",
              "      <td>79.8895</td>\n",
              "      <td>6.92748</td>\n",
              "      <td>79.8971</td>\n",
              "      <td>82.30</td>\n",
              "    </tr>\n",
              "    <tr>\n",
              "      <th>189128020</th>\n",
              "      <td>NaN</td>\n",
              "      <td>NaN</td>\n",
              "      <td>NaN</td>\n",
              "      <td>NaN</td>\n",
              "      <td>NaN</td>\n",
              "      <td>11/1/2019 3:34</td>\n",
              "      <td>11/1/2019 3:51</td>\n",
              "      <td>6.87441</td>\n",
              "      <td>79.8615</td>\n",
              "      <td>6.84478</td>\n",
              "      <td>79.9290</td>\n",
              "      <td>358.39</td>\n",
              "    </tr>\n",
              "  </tbody>\n",
              "</table>\n",
              "</div>"
            ],
            "text/plain": [
              "           additional_fare  duration  meter_waiting  meter_waiting_fare  \\\n",
              "tripid                                                                    \n",
              "189123628             10.5     834.0           56.0              0.0000   \n",
              "189125358             10.5     791.0           47.0              0.0000   \n",
              "189125719             10.5    1087.0           80.0              0.0000   \n",
              "189127273             10.5     598.0          271.0             15.6638   \n",
              "189128020              NaN       NaN            NaN                 NaN   \n",
              "\n",
              "           meter_waiting_till_pickup     pickup_time       drop_time  \\\n",
              "tripid                                                                 \n",
              "189123628                       64.0  11/1/2019 0:20  11/1/2019 0:34   \n",
              "189125358                      134.0  11/1/2019 0:56  11/1/2019 1:09   \n",
              "189125719                       61.0  11/1/2019 1:08  11/1/2019 1:26   \n",
              "189127273                       68.0  11/1/2019 2:27  11/1/2019 2:37   \n",
              "189128020                        NaN  11/1/2019 3:34  11/1/2019 3:51   \n",
              "\n",
              "           pick_lat  pick_lon  drop_lat  drop_lon    fare  \n",
              "tripid                                                     \n",
              "189123628   6.86252   79.8993   6.90330   79.8783  270.32  \n",
              "189125358   6.88589   79.8984   6.91373   79.8923  197.85  \n",
              "189125719   6.90839   79.8651   6.93669   79.9146  301.64  \n",
              "189127273   6.92570   79.8895   6.92748   79.8971   82.30  \n",
              "189128020   6.87441   79.8615   6.84478   79.9290  358.39  "
            ]
          },
          "metadata": {
            "tags": []
          },
          "execution_count": 5
        }
      ]
    },
    {
      "cell_type": "code",
      "metadata": {
        "id": "_R073VaVAVqE",
        "colab_type": "code",
        "colab": {}
      },
      "source": [
        "labels_df=labels_df.replace(\"correct\", 1)\n",
        "labels_df=labels_df.replace(\"incorrect\", 0)\n",
        "labels_df\n",
        "print(\"labels_df.shape\", labels_df.shape)\n",
        "labels_df.head()"
      ],
      "execution_count": 0,
      "outputs": []
    },
    {
      "cell_type": "code",
      "metadata": {
        "id": "q_J-mFXXTk5R",
        "colab_type": "code",
        "outputId": "01019198-8c4e-44b2-b4e2-6df6f52eef0e",
        "colab": {
          "base_uri": "https://localhost:8080/",
          "height": 238
        }
      },
      "source": [
        "features_df.dtypes"
      ],
      "execution_count": 9,
      "outputs": [
        {
          "output_type": "execute_result",
          "data": {
            "text/plain": [
              "additional_fare              float64\n",
              "duration                     float64\n",
              "meter_waiting                float64\n",
              "meter_waiting_fare           float64\n",
              "meter_waiting_till_pickup    float64\n",
              "pickup_time                   object\n",
              "drop_time                     object\n",
              "pick_lat                     float64\n",
              "pick_lon                     float64\n",
              "drop_lat                     float64\n",
              "drop_lon                     float64\n",
              "fare                         float64\n",
              "dtype: object"
            ]
          },
          "metadata": {
            "tags": []
          },
          "execution_count": 9
        }
      ]
    },
    {
      "cell_type": "code",
      "metadata": {
        "id": "oLgkDvmuTz5u",
        "colab_type": "code",
        "colab": {}
      },
      "source": [
        "%matplotlib inline\n",
        "import matplotlib.pyplot as plt"
      ],
      "execution_count": 0,
      "outputs": []
    },
    {
      "cell_type": "code",
      "metadata": {
        "id": "eJQ09cwbVC8B",
        "colab_type": "code",
        "outputId": "5c584828-ddfd-4437-e38b-ca15347786c0",
        "colab": {
          "base_uri": "https://localhost:8080/",
          "height": 297
        }
      },
      "source": [
        "fig, ax = plt.subplots(2, 1, sharex=True)\n",
        "\n",
        "n_obs = labels_df.shape[0]\n",
        "\n",
        "(labels_df['label']\n",
        "    .value_counts()\n",
        "    .div(n_obs)\n",
        "    .plot.barh(title=\"portion of correct and incorrect\", ax=ax[0])\n",
        ")\n",
        "ax[0].set_ylabel(\"label\")\n",
        "\n",
        "fig.tight_layout()"
      ],
      "execution_count": 11,
      "outputs": [
        {
          "output_type": "display_data",
          "data": {
            "image/png": "[encoded data removed]",
            "text/plain": [
              "<Figure size 432x288 with 2 Axes>"
            ]
          },
          "metadata": {
            "tags": [],
            "needs_background": "light"
          }
        }
      ]
    },
    {
      "cell_type": "code",
      "metadata": {
        "id": "LpaarpAnWHkY",
        "colab_type": "code",
        "outputId": "3a62d976-3df2-45c2-866a-e40168809bd9",
        "colab": {
          "base_uri": "https://localhost:8080/",
          "height": 105
        }
      },
      "source": [
        "from sklearn.preprocessing import StandardScaler\n",
        "from sklearn.impute import SimpleImputer\n",
        "from sklearn.compose import ColumnTransformer\n",
        "\n",
        "from sklearn.pipeline import Pipeline\n",
        "\n",
        "from sklearn.model_selection import train_test_split\n",
        "\n",
        "from sklearn.preprocessing import OneHotEncoder\n",
        "import xgboost as xgb\n",
        "from xgboost.sklearn import XGBClassifier\n",
        "from imblearn.over_sampling import SMOTE \n",
        "from sklearn.metrics import f1_score\n",
        "from sklearn.utils import resample\n",
        "\n",
        "from sklearn.ensemble import RandomForestClassifier\n",
        "\n",
        "RANDOM_SEED = 8    # Set a random seed for reproducibility!"
      ],
      "execution_count": 12,
      "outputs": [
        {
          "output_type": "stream",
          "text": [
            "/usr/local/lib/python3.6/dist-packages/sklearn/externals/six.py:31: FutureWarning: The module is deprecated in version 0.21 and will be removed in version 0.23 since we've dropped support for Python 2.7. Please rely on the official version of six (https://pypi.org/project/six/).\n",
            "  \"(https://pypi.org/project/six/).\", FutureWarning)\n",
            "/usr/local/lib/python3.6/dist-packages/sklearn/utils/deprecation.py:144: FutureWarning: The sklearn.neighbors.base module is  deprecated in version 0.22 and will be removed in version 0.24. The corresponding classes / functions should instead be imported from sklearn.neighbors. Anything that cannot be imported from sklearn.neighbors is now part of the private API.\n",
            "  warnings.warn(message, FutureWarning)\n"
          ],
          "name": "stderr"
        }
      ]
    },
    {
      "cell_type": "code",
      "metadata": {
        "id": "LsuBCCiyWKoO",
        "colab_type": "code",
        "outputId": "4cd66076-de7e-40c3-9665-c602f34a7137",
        "colab": {
          "base_uri": "https://localhost:8080/",
          "height": 247
        }
      },
      "source": [
        "#features_df.dtypes != \"object\""
      ],
      "execution_count": 0,
      "outputs": [
        {
          "output_type": "execute_result",
          "data": {
            "text/plain": [
              "additional_fare               True\n",
              "duration                      True\n",
              "meter_waiting                 True\n",
              "meter_waiting_fare            True\n",
              "meter_waiting_till_pickup     True\n",
              "pickup_time                  False\n",
              "drop_time                    False\n",
              "pick_lat                      True\n",
              "pick_lon                      True\n",
              "drop_lat                      True\n",
              "drop_lon                      True\n",
              "fare                          True\n",
              "dtype: bool"
            ]
          },
          "metadata": {
            "tags": []
          },
          "execution_count": 25
        }
      ]
    },
    {
      "cell_type": "code",
      "metadata": {
        "id": "7W5VVbhvzRfg",
        "colab_type": "code",
        "colab": {}
      },
      "source": [
        "features_df['drop_time'] = features_df['drop_time'].astype('datetime64[m]')\n",
        "features_df['pickup_time'] = features_df['pickup_time'].astype('datetime64[m]')\n",
        "\n",
        "features_df['drop_time'] = [time.minute for time in features_df['drop_time']]\n",
        "features_df['pickup_time'] = [time.minute for time in features_df['pickup_time']]"
      ],
      "execution_count": 0,
      "outputs": []
    },
    {
      "cell_type": "code",
      "metadata": {
        "id": "LQd3tdDxWVnn",
        "colab_type": "code",
        "outputId": "5d915495-4dee-42db-8532-f46dfd82d6be",
        "colab": {
          "base_uri": "https://localhost:8080/",
          "height": 68
        }
      },
      "source": [
        "numeric_cols = features_df.columns[features_df.dtypes != \"object\"].values\n",
        "print(numeric_cols)"
      ],
      "execution_count": 70,
      "outputs": [
        {
          "output_type": "stream",
          "text": [
            "['additional_fare' 'duration' 'meter_waiting' 'meter_waiting_fare'\n",
            " 'meter_waiting_till_pickup' 'pickup_time' 'drop_time' 'pick_lat'\n",
            " 'pick_lon' 'drop_lat' 'drop_lon' 'fare']\n"
          ],
          "name": "stdout"
        }
      ]
    },
    {
      "cell_type": "code",
      "metadata": {
        "id": "0ojJLRAXnYRT",
        "colab_type": "code",
        "colab": {
          "base_uri": "https://localhost:8080/",
          "height": 255
        },
        "outputId": "b8fb2e03-4642-4d4d-9c2a-780e10efdbd6"
      },
      "source": [
        "features_df.head()"
      ],
      "execution_count": 44,
      "outputs": [
        {
          "output_type": "execute_result",
          "data": {
            "text/html": [
              "<div>\n",
              "<style scoped>\n",
              "    .dataframe tbody tr th:only-of-type {\n",
              "        vertical-align: middle;\n",
              "    }\n",
              "\n",
              "    .dataframe tbody tr th {\n",
              "        vertical-align: top;\n",
              "    }\n",
              "\n",
              "    .dataframe thead th {\n",
              "        text-align: right;\n",
              "    }\n",
              "</style>\n",
              "<table border=\"1\" class=\"dataframe\">\n",
              "  <thead>\n",
              "    <tr style=\"text-align: right;\">\n",
              "      <th></th>\n",
              "      <th>additional_fare</th>\n",
              "      <th>duration</th>\n",
              "      <th>meter_waiting</th>\n",
              "      <th>meter_waiting_fare</th>\n",
              "      <th>meter_waiting_till_pickup</th>\n",
              "      <th>pickup_time</th>\n",
              "      <th>drop_time</th>\n",
              "      <th>pick_lat</th>\n",
              "      <th>pick_lon</th>\n",
              "      <th>drop_lat</th>\n",
              "      <th>drop_lon</th>\n",
              "      <th>fare</th>\n",
              "    </tr>\n",
              "    <tr>\n",
              "      <th>tripid</th>\n",
              "      <th></th>\n",
              "      <th></th>\n",
              "      <th></th>\n",
              "      <th></th>\n",
              "      <th></th>\n",
              "      <th></th>\n",
              "      <th></th>\n",
              "      <th></th>\n",
              "      <th></th>\n",
              "      <th></th>\n",
              "      <th></th>\n",
              "      <th></th>\n",
              "    </tr>\n",
              "  </thead>\n",
              "  <tbody>\n",
              "    <tr>\n",
              "      <th>189123628</th>\n",
              "      <td>10.5</td>\n",
              "      <td>834.0</td>\n",
              "      <td>56.0</td>\n",
              "      <td>0.0000</td>\n",
              "      <td>64.0</td>\n",
              "      <td>20</td>\n",
              "      <td>34</td>\n",
              "      <td>6.86252</td>\n",
              "      <td>79.8993</td>\n",
              "      <td>6.90330</td>\n",
              "      <td>79.8783</td>\n",
              "      <td>270.32</td>\n",
              "    </tr>\n",
              "    <tr>\n",
              "      <th>189125358</th>\n",
              "      <td>10.5</td>\n",
              "      <td>791.0</td>\n",
              "      <td>47.0</td>\n",
              "      <td>0.0000</td>\n",
              "      <td>134.0</td>\n",
              "      <td>56</td>\n",
              "      <td>9</td>\n",
              "      <td>6.88589</td>\n",
              "      <td>79.8984</td>\n",
              "      <td>6.91373</td>\n",
              "      <td>79.8923</td>\n",
              "      <td>197.85</td>\n",
              "    </tr>\n",
              "    <tr>\n",
              "      <th>189125719</th>\n",
              "      <td>10.5</td>\n",
              "      <td>1087.0</td>\n",
              "      <td>80.0</td>\n",
              "      <td>0.0000</td>\n",
              "      <td>61.0</td>\n",
              "      <td>8</td>\n",
              "      <td>26</td>\n",
              "      <td>6.90839</td>\n",
              "      <td>79.8651</td>\n",
              "      <td>6.93669</td>\n",
              "      <td>79.9146</td>\n",
              "      <td>301.64</td>\n",
              "    </tr>\n",
              "    <tr>\n",
              "      <th>189127273</th>\n",
              "      <td>10.5</td>\n",
              "      <td>598.0</td>\n",
              "      <td>271.0</td>\n",
              "      <td>15.6638</td>\n",
              "      <td>68.0</td>\n",
              "      <td>27</td>\n",
              "      <td>37</td>\n",
              "      <td>6.92570</td>\n",
              "      <td>79.8895</td>\n",
              "      <td>6.92748</td>\n",
              "      <td>79.8971</td>\n",
              "      <td>82.30</td>\n",
              "    </tr>\n",
              "    <tr>\n",
              "      <th>189128020</th>\n",
              "      <td>NaN</td>\n",
              "      <td>NaN</td>\n",
              "      <td>NaN</td>\n",
              "      <td>NaN</td>\n",
              "      <td>NaN</td>\n",
              "      <td>34</td>\n",
              "      <td>51</td>\n",
              "      <td>6.87441</td>\n",
              "      <td>79.8615</td>\n",
              "      <td>6.84478</td>\n",
              "      <td>79.9290</td>\n",
              "      <td>358.39</td>\n",
              "    </tr>\n",
              "  </tbody>\n",
              "</table>\n",
              "</div>"
            ],
            "text/plain": [
              "           additional_fare  duration  meter_waiting  meter_waiting_fare  \\\n",
              "tripid                                                                    \n",
              "189123628             10.5     834.0           56.0              0.0000   \n",
              "189125358             10.5     791.0           47.0              0.0000   \n",
              "189125719             10.5    1087.0           80.0              0.0000   \n",
              "189127273             10.5     598.0          271.0             15.6638   \n",
              "189128020              NaN       NaN            NaN                 NaN   \n",
              "\n",
              "           meter_waiting_till_pickup  pickup_time  drop_time  pick_lat  \\\n",
              "tripid                                                                   \n",
              "189123628                       64.0           20         34   6.86252   \n",
              "189125358                      134.0           56          9   6.88589   \n",
              "189125719                       61.0            8         26   6.90839   \n",
              "189127273                       68.0           27         37   6.92570   \n",
              "189128020                        NaN           34         51   6.87441   \n",
              "\n",
              "           pick_lon  drop_lat  drop_lon    fare  \n",
              "tripid                                           \n",
              "189123628   79.8993   6.90330   79.8783  270.32  \n",
              "189125358   79.8984   6.91373   79.8923  197.85  \n",
              "189125719   79.8651   6.93669   79.9146  301.64  \n",
              "189127273   79.8895   6.92748   79.8971   82.30  \n",
              "189128020   79.8615   6.84478   79.9290  358.39  "
            ]
          },
          "metadata": {
            "tags": []
          },
          "execution_count": 44
        }
      ]
    },
    {
      "cell_type": "code",
      "metadata": {
        "id": "1E7stb9CWjjI",
        "colab_type": "code",
        "colab": {}
      },
      "source": [
        "# chain preprocessing into a Pipeline object\n",
        "# each step is a tuple of (name you chose, sklearn transformer)\n",
        "numeric_preprocessing_steps = Pipeline(steps=[\n",
        "    ('imputer', SimpleImputer(strategy='median')),\n",
        "    ('standard_scaler', StandardScaler())])\n",
        "# create the preprocessor stage of final pipeline\n",
        "# each entry in the transformer list is a tuple of\n",
        "# (name you choose, sklearn transformer, list of columns)\n",
        "preprocessor = ColumnTransformer(\n",
        "    transformers = [\n",
        "        (\"numeric\", numeric_preprocessing_steps, numeric_cols)\n",
        "    ],\n",
        "    remainder = \"drop\"\n",
        ")"
      ],
      "execution_count": 0,
      "outputs": []
    },
    {
      "cell_type": "code",
      "metadata": {
        "id": "T5VhODrPWl_W",
        "colab_type": "code",
        "colab": {}
      },
      "source": [
        "estimator = RandomForestClassifier(n_estimators=10000)"
      ],
      "execution_count": 0,
      "outputs": []
    },
    {
      "cell_type": "code",
      "metadata": {
        "id": "bIFFdgdeWolO",
        "colab_type": "code",
        "colab": {}
      },
      "source": [
        "full_pipeline = Pipeline([\n",
        "    (\"preprocessor\", preprocessor),\n",
        "    (\"estimators\", estimator),\n",
        "])"
      ],
      "execution_count": 0,
      "outputs": []
    },
    {
      "cell_type": "code",
      "metadata": {
        "id": "rn335H5jWqvv",
        "colab_type": "code",
        "outputId": "f7ffdd16-3cd6-4775-8770-3da1b32d54f9",
        "colab": {
          "base_uri": "https://localhost:8080/",
          "height": 493
        }
      },
      "source": [
        "full_pipeline"
      ],
      "execution_count": 48,
      "outputs": [
        {
          "output_type": "execute_result",
          "data": {
            "text/plain": [
              "Pipeline(memory=None,\n",
              "         steps=[('preprocessor',\n",
              "                 ColumnTransformer(n_jobs=None, remainder='drop',\n",
              "                                   sparse_threshold=0.3,\n",
              "                                   transformer_weights=None,\n",
              "                                   transformers=[('numeric',\n",
              "                                                  Pipeline(memory=None,\n",
              "                                                           steps=[('imputer',\n",
              "                                                                   SimpleImputer(add_indicator=False,\n",
              "                                                                                 copy=True,\n",
              "                                                                                 fill_value=None,\n",
              "                                                                                 missing_values=nan,\n",
              "                                                                                 strategy='median',\n",
              "                                                                                 verbose=0)),\n",
              "                                                                  ('standard_scaler',\n",
              "                                                                   StandardScaler(copy=T...\n",
              "                 RandomForestClassifier(bootstrap=True, ccp_alpha=0.0,\n",
              "                                        class_weight=None, criterion='gini',\n",
              "                                        max_depth=None, max_features='auto',\n",
              "                                        max_leaf_nodes=None, max_samples=None,\n",
              "                                        min_impurity_decrease=0.0,\n",
              "                                        min_impurity_split=None,\n",
              "                                        min_samples_leaf=1, min_samples_split=2,\n",
              "                                        min_weight_fraction_leaf=0.0,\n",
              "                                        n_estimators=10000, n_jobs=None,\n",
              "                                        oob_score=False, random_state=None,\n",
              "                                        verbose=0, warm_start=False))],\n",
              "         verbose=False)"
            ]
          },
          "metadata": {
            "tags": []
          },
          "execution_count": 48
        }
      ]
    },
    {
      "cell_type": "code",
      "metadata": {
        "id": "cDZr5E8HWw_9",
        "colab_type": "code",
        "colab": {}
      },
      "source": [
        "X_train, X_eval, y_train, y_eval = train_test_split(\n",
        "    features_df,\n",
        "    labels_df,\n",
        "    test_size=0.33,\n",
        "    shuffle=True,\n",
        "    stratify=labels_df,\n",
        "    random_state=RANDOM_SEED\n",
        ")"
      ],
      "execution_count": 0,
      "outputs": []
    },
    {
      "cell_type": "code",
      "metadata": {
        "id": "0kyaGehvXSI_",
        "colab_type": "code",
        "outputId": "067d43b4-c65a-4db9-f596-6627c81f2ae6",
        "colab": {
          "base_uri": "https://localhost:8080/",
          "height": 51
        }
      },
      "source": [
        "%%time\n",
        "\n",
        "# Train model\n",
        "full_pipeline.fit(X_train, y_train.values.ravel())\n",
        "\n",
        "# Predict on evaluation set\n",
        "preds = full_pipeline.predict(X_eval)\n",
        "preds"
      ],
      "execution_count": 50,
      "outputs": [
        {
          "output_type": "stream",
          "text": [
            "CPU times: user 5min 30s, sys: 727 ms, total: 5min 31s\n",
            "Wall time: 5min 31s\n"
          ],
          "name": "stdout"
        }
      ]
    },
    {
      "cell_type": "code",
      "metadata": {
        "id": "NpnqKWY6iIo6",
        "colab_type": "code",
        "outputId": "14aad4b1-6123-456f-82b3-8b6e8e95b717",
        "colab": {
          "base_uri": "https://localhost:8080/",
          "height": 34
        }
      },
      "source": [
        "preds"
      ],
      "execution_count": 51,
      "outputs": [
        {
          "output_type": "execute_result",
          "data": {
            "text/plain": [
              "array([1, 1, 1, ..., 1, 1, 1])"
            ]
          },
          "metadata": {
            "tags": []
          },
          "execution_count": 51
        }
      ]
    },
    {
      "cell_type": "code",
      "metadata": {
        "id": "UakjDFvmXz4d",
        "colab_type": "code",
        "outputId": "ccf7cee6-354f-4a7f-c834-40ddf9e7b32a",
        "colab": {
          "base_uri": "https://localhost:8080/",
          "height": 34
        }
      },
      "source": [
        "print(\"test_score.shape\", preds.shape)"
      ],
      "execution_count": 52,
      "outputs": [
        {
          "output_type": "stream",
          "text": [
            "test_score.shape (5669,)\n"
          ],
          "name": "stdout"
        }
      ]
    },
    {
      "cell_type": "code",
      "metadata": {
        "id": "sbq8l-t-X6Gy",
        "colab_type": "code",
        "outputId": "44270728-a604-42fd-f452-9872b9a0410d",
        "colab": {
          "base_uri": "https://localhost:8080/",
          "height": 252
        }
      },
      "source": [
        "y_preds = pd.DataFrame(\n",
        "    {\n",
        "        \"label\": preds,\n",
        "    },\n",
        "    index = y_eval.index\n",
        ")\n",
        "print(\"y_preds.shape:\", y_preds.shape)\n",
        "y_preds.head()"
      ],
      "execution_count": 53,
      "outputs": [
        {
          "output_type": "stream",
          "text": [
            "y_preds.shape: (5669, 1)\n"
          ],
          "name": "stdout"
        },
        {
          "output_type": "execute_result",
          "data": {
            "text/html": [
              "<div>\n",
              "<style scoped>\n",
              "    .dataframe tbody tr th:only-of-type {\n",
              "        vertical-align: middle;\n",
              "    }\n",
              "\n",
              "    .dataframe tbody tr th {\n",
              "        vertical-align: top;\n",
              "    }\n",
              "\n",
              "    .dataframe thead th {\n",
              "        text-align: right;\n",
              "    }\n",
              "</style>\n",
              "<table border=\"1\" class=\"dataframe\">\n",
              "  <thead>\n",
              "    <tr style=\"text-align: right;\">\n",
              "      <th></th>\n",
              "      <th>label</th>\n",
              "    </tr>\n",
              "    <tr>\n",
              "      <th>tripid</th>\n",
              "      <th></th>\n",
              "    </tr>\n",
              "  </thead>\n",
              "  <tbody>\n",
              "    <tr>\n",
              "      <th>200328361</th>\n",
              "      <td>1</td>\n",
              "    </tr>\n",
              "    <tr>\n",
              "      <th>191127057</th>\n",
              "      <td>1</td>\n",
              "    </tr>\n",
              "    <tr>\n",
              "      <th>200136070</th>\n",
              "      <td>1</td>\n",
              "    </tr>\n",
              "    <tr>\n",
              "      <th>195614910</th>\n",
              "      <td>1</td>\n",
              "    </tr>\n",
              "    <tr>\n",
              "      <th>191488838</th>\n",
              "      <td>1</td>\n",
              "    </tr>\n",
              "  </tbody>\n",
              "</table>\n",
              "</div>"
            ],
            "text/plain": [
              "           label\n",
              "tripid          \n",
              "200328361      1\n",
              "191127057      1\n",
              "200136070      1\n",
              "195614910      1\n",
              "191488838      1"
            ]
          },
          "metadata": {
            "tags": []
          },
          "execution_count": 53
        }
      ]
    },
    {
      "cell_type": "code",
      "metadata": {
        "id": "JZoJhQ_uYHG0",
        "colab_type": "code",
        "outputId": "34e583a8-9efe-4460-8963-1340ef6b6d62",
        "colab": {
          "base_uri": "https://localhost:8080/",
          "height": 34
        }
      },
      "source": [
        "f1_score(y_eval, y_preds, average='macro')"
      ],
      "execution_count": 54,
      "outputs": [
        {
          "output_type": "execute_result",
          "data": {
            "text/plain": [
              "0.7907282552556638"
            ]
          },
          "metadata": {
            "tags": []
          },
          "execution_count": 54
        }
      ]
    },
    {
      "cell_type": "code",
      "metadata": {
        "id": "XzW18o9lhS_x",
        "colab_type": "code",
        "outputId": "f089380b-1670-4f9e-f8bc-c56f1b828674",
        "colab": {
          "base_uri": "https://localhost:8080/",
          "height": 51
        }
      },
      "source": [
        "%%time \n",
        "\n",
        "full_pipeline.fit(features_df, labels_df.values.ravel())\n",
        "\n",
        "None   # So we don't print out the whole pipeline representation"
      ],
      "execution_count": 55,
      "outputs": [
        {
          "output_type": "stream",
          "text": [
            "CPU times: user 8min 13s, sys: 609 ms, total: 8min 14s\n",
            "Wall time: 8min 14s\n"
          ],
          "name": "stdout"
        }
      ]
    },
    {
      "cell_type": "code",
      "metadata": {
        "id": "xnJ24XJz3sB1",
        "colab_type": "code",
        "colab": {}
      },
      "source": [
        "\n",
        "\n",
        "test_features_df['drop_time'] = test_features_df['drop_time'].astype('datetime64[m]')\n",
        "test_features_df['pickup_time'] = test_features_df['pickup_time'].astype('datetime64[m]')\n",
        "\n",
        "test_features_df['drop_time'] = [time.minute for time in test_features_df['drop_time']]\n",
        "test_features_df['pickup_time'] = [time.minute for time in test_features_df['pickup_time']]\n"
      ],
      "execution_count": 0,
      "outputs": []
    },
    {
      "cell_type": "code",
      "metadata": {
        "id": "nuixI3xR3_9K",
        "colab_type": "code",
        "colab": {
          "base_uri": "https://localhost:8080/",
          "height": 255
        },
        "outputId": "c42703bc-89b5-48b3-84cb-315b585fb5cc"
      },
      "source": [
        "test_features_df.head()"
      ],
      "execution_count": 59,
      "outputs": [
        {
          "output_type": "execute_result",
          "data": {
            "text/html": [
              "<div>\n",
              "<style scoped>\n",
              "    .dataframe tbody tr th:only-of-type {\n",
              "        vertical-align: middle;\n",
              "    }\n",
              "\n",
              "    .dataframe tbody tr th {\n",
              "        vertical-align: top;\n",
              "    }\n",
              "\n",
              "    .dataframe thead th {\n",
              "        text-align: right;\n",
              "    }\n",
              "</style>\n",
              "<table border=\"1\" class=\"dataframe\">\n",
              "  <thead>\n",
              "    <tr style=\"text-align: right;\">\n",
              "      <th></th>\n",
              "      <th>additional_fare</th>\n",
              "      <th>duration</th>\n",
              "      <th>meter_waiting</th>\n",
              "      <th>meter_waiting_fare</th>\n",
              "      <th>meter_waiting_till_pickup</th>\n",
              "      <th>pickup_time</th>\n",
              "      <th>drop_time</th>\n",
              "      <th>pick_lat</th>\n",
              "      <th>pick_lon</th>\n",
              "      <th>drop_lat</th>\n",
              "      <th>drop_lon</th>\n",
              "      <th>fare</th>\n",
              "    </tr>\n",
              "    <tr>\n",
              "      <th>tripid</th>\n",
              "      <th></th>\n",
              "      <th></th>\n",
              "      <th></th>\n",
              "      <th></th>\n",
              "      <th></th>\n",
              "      <th></th>\n",
              "      <th></th>\n",
              "      <th></th>\n",
              "      <th></th>\n",
              "      <th></th>\n",
              "      <th></th>\n",
              "      <th></th>\n",
              "    </tr>\n",
              "  </thead>\n",
              "  <tbody>\n",
              "    <tr>\n",
              "      <th>213284604</th>\n",
              "      <td>10.5</td>\n",
              "      <td>924</td>\n",
              "      <td>42</td>\n",
              "      <td>2.4486</td>\n",
              "      <td>148</td>\n",
              "      <td>38</td>\n",
              "      <td>53</td>\n",
              "      <td>6.83454</td>\n",
              "      <td>79.8750</td>\n",
              "      <td>6.77490</td>\n",
              "      <td>79.8840</td>\n",
              "      <td>289.27</td>\n",
              "    </tr>\n",
              "    <tr>\n",
              "      <th>213286352</th>\n",
              "      <td>10.5</td>\n",
              "      <td>4249</td>\n",
              "      <td>20</td>\n",
              "      <td>0.0000</td>\n",
              "      <td>91</td>\n",
              "      <td>2</td>\n",
              "      <td>13</td>\n",
              "      <td>6.91168</td>\n",
              "      <td>79.8723</td>\n",
              "      <td>6.55091</td>\n",
              "      <td>79.9706</td>\n",
              "      <td>1912.70</td>\n",
              "    </tr>\n",
              "    <tr>\n",
              "      <th>213293973</th>\n",
              "      <td>10.5</td>\n",
              "      <td>1552</td>\n",
              "      <td>255</td>\n",
              "      <td>2.6588</td>\n",
              "      <td>23</td>\n",
              "      <td>2</td>\n",
              "      <td>28</td>\n",
              "      <td>6.92145</td>\n",
              "      <td>79.8478</td>\n",
              "      <td>6.90539</td>\n",
              "      <td>79.8989</td>\n",
              "      <td>394.00</td>\n",
              "    </tr>\n",
              "    <tr>\n",
              "      <th>213294622</th>\n",
              "      <td>10.5</td>\n",
              "      <td>462</td>\n",
              "      <td>16</td>\n",
              "      <td>0.0000</td>\n",
              "      <td>198</td>\n",
              "      <td>30</td>\n",
              "      <td>38</td>\n",
              "      <td>6.77433</td>\n",
              "      <td>79.9416</td>\n",
              "      <td>6.80401</td>\n",
              "      <td>79.9407</td>\n",
              "      <td>154.32</td>\n",
              "    </tr>\n",
              "    <tr>\n",
              "      <th>213298687</th>\n",
              "      <td>10.5</td>\n",
              "      <td>814</td>\n",
              "      <td>392</td>\n",
              "      <td>12.3692</td>\n",
              "      <td>69</td>\n",
              "      <td>0</td>\n",
              "      <td>14</td>\n",
              "      <td>6.97968</td>\n",
              "      <td>79.9130</td>\n",
              "      <td>6.98875</td>\n",
              "      <td>79.8914</td>\n",
              "      <td>147.47</td>\n",
              "    </tr>\n",
              "  </tbody>\n",
              "</table>\n",
              "</div>"
            ],
            "text/plain": [
              "           additional_fare  duration  meter_waiting  meter_waiting_fare  \\\n",
              "tripid                                                                    \n",
              "213284604             10.5       924             42              2.4486   \n",
              "213286352             10.5      4249             20              0.0000   \n",
              "213293973             10.5      1552            255              2.6588   \n",
              "213294622             10.5       462             16              0.0000   \n",
              "213298687             10.5       814            392             12.3692   \n",
              "\n",
              "           meter_waiting_till_pickup  pickup_time  drop_time  pick_lat  \\\n",
              "tripid                                                                   \n",
              "213284604                        148           38         53   6.83454   \n",
              "213286352                         91            2         13   6.91168   \n",
              "213293973                         23            2         28   6.92145   \n",
              "213294622                        198           30         38   6.77433   \n",
              "213298687                         69            0         14   6.97968   \n",
              "\n",
              "           pick_lon  drop_lat  drop_lon     fare  \n",
              "tripid                                            \n",
              "213284604   79.8750   6.77490   79.8840   289.27  \n",
              "213286352   79.8723   6.55091   79.9706  1912.70  \n",
              "213293973   79.8478   6.90539   79.8989   394.00  \n",
              "213294622   79.9416   6.80401   79.9407   154.32  \n",
              "213298687   79.9130   6.98875   79.8914   147.47  "
            ]
          },
          "metadata": {
            "tags": []
          },
          "execution_count": 59
        }
      ]
    },
    {
      "cell_type": "code",
      "metadata": {
        "id": "j-28KAankmg3",
        "colab_type": "code",
        "outputId": "be14f560-8b4a-4d58-d294-5a912d1bc576",
        "colab": {
          "base_uri": "https://localhost:8080/",
          "height": 340
        }
      },
      "source": [
        "#test_features_df.head()"
      ],
      "execution_count": 56,
      "outputs": [
        {
          "output_type": "execute_result",
          "data": {
            "text/html": [
              "<div>\n",
              "<style scoped>\n",
              "    .dataframe tbody tr th:only-of-type {\n",
              "        vertical-align: middle;\n",
              "    }\n",
              "\n",
              "    .dataframe tbody tr th {\n",
              "        vertical-align: top;\n",
              "    }\n",
              "\n",
              "    .dataframe thead th {\n",
              "        text-align: right;\n",
              "    }\n",
              "</style>\n",
              "<table border=\"1\" class=\"dataframe\">\n",
              "  <thead>\n",
              "    <tr style=\"text-align: right;\">\n",
              "      <th></th>\n",
              "      <th>additional_fare</th>\n",
              "      <th>duration</th>\n",
              "      <th>meter_waiting</th>\n",
              "      <th>meter_waiting_fare</th>\n",
              "      <th>meter_waiting_till_pickup</th>\n",
              "      <th>pickup_time</th>\n",
              "      <th>drop_time</th>\n",
              "      <th>pick_lat</th>\n",
              "      <th>pick_lon</th>\n",
              "      <th>drop_lat</th>\n",
              "      <th>drop_lon</th>\n",
              "      <th>fare</th>\n",
              "    </tr>\n",
              "    <tr>\n",
              "      <th>tripid</th>\n",
              "      <th></th>\n",
              "      <th></th>\n",
              "      <th></th>\n",
              "      <th></th>\n",
              "      <th></th>\n",
              "      <th></th>\n",
              "      <th></th>\n",
              "      <th></th>\n",
              "      <th></th>\n",
              "      <th></th>\n",
              "      <th></th>\n",
              "      <th></th>\n",
              "    </tr>\n",
              "  </thead>\n",
              "  <tbody>\n",
              "    <tr>\n",
              "      <th>213284604</th>\n",
              "      <td>10.5</td>\n",
              "      <td>924</td>\n",
              "      <td>42</td>\n",
              "      <td>2.4486</td>\n",
              "      <td>148</td>\n",
              "      <td>2/1/2020 0:38</td>\n",
              "      <td>2/1/2020 0:53</td>\n",
              "      <td>6.83454</td>\n",
              "      <td>79.8750</td>\n",
              "      <td>6.77490</td>\n",
              "      <td>79.8840</td>\n",
              "      <td>289.27</td>\n",
              "    </tr>\n",
              "    <tr>\n",
              "      <th>213286352</th>\n",
              "      <td>10.5</td>\n",
              "      <td>4249</td>\n",
              "      <td>20</td>\n",
              "      <td>0.0000</td>\n",
              "      <td>91</td>\n",
              "      <td>2/1/2020 1:02</td>\n",
              "      <td>2/1/2020 2:13</td>\n",
              "      <td>6.91168</td>\n",
              "      <td>79.8723</td>\n",
              "      <td>6.55091</td>\n",
              "      <td>79.9706</td>\n",
              "      <td>1912.70</td>\n",
              "    </tr>\n",
              "    <tr>\n",
              "      <th>213293973</th>\n",
              "      <td>10.5</td>\n",
              "      <td>1552</td>\n",
              "      <td>255</td>\n",
              "      <td>2.6588</td>\n",
              "      <td>23</td>\n",
              "      <td>2/1/2020 5:02</td>\n",
              "      <td>2/1/2020 5:28</td>\n",
              "      <td>6.92145</td>\n",
              "      <td>79.8478</td>\n",
              "      <td>6.90539</td>\n",
              "      <td>79.8989</td>\n",
              "      <td>394.00</td>\n",
              "    </tr>\n",
              "    <tr>\n",
              "      <th>213294622</th>\n",
              "      <td>10.5</td>\n",
              "      <td>462</td>\n",
              "      <td>16</td>\n",
              "      <td>0.0000</td>\n",
              "      <td>198</td>\n",
              "      <td>2/1/2020 5:30</td>\n",
              "      <td>2/1/2020 5:38</td>\n",
              "      <td>6.77433</td>\n",
              "      <td>79.9416</td>\n",
              "      <td>6.80401</td>\n",
              "      <td>79.9407</td>\n",
              "      <td>154.32</td>\n",
              "    </tr>\n",
              "    <tr>\n",
              "      <th>213298687</th>\n",
              "      <td>10.5</td>\n",
              "      <td>814</td>\n",
              "      <td>392</td>\n",
              "      <td>12.3692</td>\n",
              "      <td>69</td>\n",
              "      <td>2/1/2020 7:00</td>\n",
              "      <td>2/1/2020 7:14</td>\n",
              "      <td>6.97968</td>\n",
              "      <td>79.9130</td>\n",
              "      <td>6.98875</td>\n",
              "      <td>79.8914</td>\n",
              "      <td>147.47</td>\n",
              "    </tr>\n",
              "  </tbody>\n",
              "</table>\n",
              "</div>"
            ],
            "text/plain": [
              "           additional_fare  duration  meter_waiting  meter_waiting_fare  \\\n",
              "tripid                                                                    \n",
              "213284604             10.5       924             42              2.4486   \n",
              "213286352             10.5      4249             20              0.0000   \n",
              "213293973             10.5      1552            255              2.6588   \n",
              "213294622             10.5       462             16              0.0000   \n",
              "213298687             10.5       814            392             12.3692   \n",
              "\n",
              "           meter_waiting_till_pickup    pickup_time      drop_time  pick_lat  \\\n",
              "tripid                                                                         \n",
              "213284604                        148  2/1/2020 0:38  2/1/2020 0:53   6.83454   \n",
              "213286352                         91  2/1/2020 1:02  2/1/2020 2:13   6.91168   \n",
              "213293973                         23  2/1/2020 5:02  2/1/2020 5:28   6.92145   \n",
              "213294622                        198  2/1/2020 5:30  2/1/2020 5:38   6.77433   \n",
              "213298687                         69  2/1/2020 7:00  2/1/2020 7:14   6.97968   \n",
              "\n",
              "           pick_lon  drop_lat  drop_lon     fare  \n",
              "tripid                                            \n",
              "213284604   79.8750   6.77490   79.8840   289.27  \n",
              "213286352   79.8723   6.55091   79.9706  1912.70  \n",
              "213293973   79.8478   6.90539   79.8989   394.00  \n",
              "213294622   79.9416   6.80401   79.9407   154.32  \n",
              "213298687   79.9130   6.98875   79.8914   147.47  "
            ]
          },
          "metadata": {
            "tags": []
          },
          "execution_count": 56
        }
      ]
    },
    {
      "cell_type": "code",
      "metadata": {
        "id": "NSrik_r9hsxD",
        "colab_type": "code",
        "outputId": "2d7c571d-5934-489c-b72e-cce0d608b3d0",
        "colab": {
          "base_uri": "https://localhost:8080/",
          "height": 34
        }
      },
      "source": [
        "test_score1 = full_pipeline.predict(test_features_df)\n",
        "test_score1"
      ],
      "execution_count": 60,
      "outputs": [
        {
          "output_type": "execute_result",
          "data": {
            "text/plain": [
              "array([1, 1, 1, ..., 1, 1, 1])"
            ]
          },
          "metadata": {
            "tags": []
          },
          "execution_count": 60
        }
      ]
    },
    {
      "cell_type": "code",
      "metadata": {
        "id": "clanxMe6joMg",
        "colab_type": "code",
        "outputId": "425fa39e-fd91-4712-8815-d70cf75350cb",
        "colab": {
          "base_uri": "https://localhost:8080/",
          "height": 34
        }
      },
      "source": [
        "test_score1.shape"
      ],
      "execution_count": 61,
      "outputs": [
        {
          "output_type": "execute_result",
          "data": {
            "text/plain": [
              "(8576,)"
            ]
          },
          "metadata": {
            "tags": []
          },
          "execution_count": 61
        }
      ]
    },
    {
      "cell_type": "code",
      "metadata": {
        "id": "U5CnU2oO-XXK",
        "colab_type": "code",
        "colab": {}
      },
      "source": [
        "# test_score1[test_score1 == \"correct\"] = 1\n",
        "# test_score1[test_score1 == \"incorrect\"] = 0\n",
        "# test_score1"
      ],
      "execution_count": 0,
      "outputs": []
    },
    {
      "cell_type": "code",
      "metadata": {
        "id": "7EVIbnMbkzrw",
        "colab_type": "code",
        "outputId": "de3745a1-358e-4c7b-a0e9-a57fbbf877ec",
        "colab": {
          "base_uri": "https://localhost:8080/",
          "height": 252
        }
      },
      "source": [
        "y_preds1 = pd.DataFrame(\n",
        "    {\n",
        "        # \"label\": test_score1[:,0],\n",
        "        \"label\": test_score1,\n",
        "    },\n",
        "    index = test_features_df.index\n",
        ")\n",
        "print(\"y_preds1.shape:\", y_preds1.shape)\n",
        "y_preds1.head()"
      ],
      "execution_count": 62,
      "outputs": [
        {
          "output_type": "stream",
          "text": [
            "y_preds1.shape: (8576, 1)\n"
          ],
          "name": "stdout"
        },
        {
          "output_type": "execute_result",
          "data": {
            "text/html": [
              "<div>\n",
              "<style scoped>\n",
              "    .dataframe tbody tr th:only-of-type {\n",
              "        vertical-align: middle;\n",
              "    }\n",
              "\n",
              "    .dataframe tbody tr th {\n",
              "        vertical-align: top;\n",
              "    }\n",
              "\n",
              "    .dataframe thead th {\n",
              "        text-align: right;\n",
              "    }\n",
              "</style>\n",
              "<table border=\"1\" class=\"dataframe\">\n",
              "  <thead>\n",
              "    <tr style=\"text-align: right;\">\n",
              "      <th></th>\n",
              "      <th>label</th>\n",
              "    </tr>\n",
              "    <tr>\n",
              "      <th>tripid</th>\n",
              "      <th></th>\n",
              "    </tr>\n",
              "  </thead>\n",
              "  <tbody>\n",
              "    <tr>\n",
              "      <th>213284604</th>\n",
              "      <td>1</td>\n",
              "    </tr>\n",
              "    <tr>\n",
              "      <th>213286352</th>\n",
              "      <td>1</td>\n",
              "    </tr>\n",
              "    <tr>\n",
              "      <th>213293973</th>\n",
              "      <td>1</td>\n",
              "    </tr>\n",
              "    <tr>\n",
              "      <th>213294622</th>\n",
              "      <td>1</td>\n",
              "    </tr>\n",
              "    <tr>\n",
              "      <th>213298687</th>\n",
              "      <td>1</td>\n",
              "    </tr>\n",
              "  </tbody>\n",
              "</table>\n",
              "</div>"
            ],
            "text/plain": [
              "           label\n",
              "tripid          \n",
              "213284604      1\n",
              "213286352      1\n",
              "213293973      1\n",
              "213294622      1\n",
              "213298687      1"
            ]
          },
          "metadata": {
            "tags": []
          },
          "execution_count": 62
        }
      ]
    },
    {
      "cell_type": "code",
      "metadata": {
        "id": "1cZIp7k0h2FW",
        "colab_type": "code",
        "colab": {}
      },
      "source": [
        "submission_df = pd.read_csv(DATA_PATH / \"/content/drive/My Drive/MachineLearningMy/sample_submission.csv\", \n",
        "                            index_col=\"tripid\")"
      ],
      "execution_count": 0,
      "outputs": []
    },
    {
      "cell_type": "code",
      "metadata": {
        "id": "ouv_PqSwh_U1",
        "colab_type": "code",
        "outputId": "53949a6c-eaf1-4db6-9942-c7a43ee7f049",
        "colab": {
          "base_uri": "https://localhost:8080/",
          "height": 235
        }
      },
      "source": [
        "submission_df.head()"
      ],
      "execution_count": 64,
      "outputs": [
        {
          "output_type": "execute_result",
          "data": {
            "text/html": [
              "<div>\n",
              "<style scoped>\n",
              "    .dataframe tbody tr th:only-of-type {\n",
              "        vertical-align: middle;\n",
              "    }\n",
              "\n",
              "    .dataframe tbody tr th {\n",
              "        vertical-align: top;\n",
              "    }\n",
              "\n",
              "    .dataframe thead th {\n",
              "        text-align: right;\n",
              "    }\n",
              "</style>\n",
              "<table border=\"1\" class=\"dataframe\">\n",
              "  <thead>\n",
              "    <tr style=\"text-align: right;\">\n",
              "      <th></th>\n",
              "      <th>prediction</th>\n",
              "    </tr>\n",
              "    <tr>\n",
              "      <th>tripid</th>\n",
              "      <th></th>\n",
              "    </tr>\n",
              "  </thead>\n",
              "  <tbody>\n",
              "    <tr>\n",
              "      <th>213284604</th>\n",
              "      <td>1</td>\n",
              "    </tr>\n",
              "    <tr>\n",
              "      <th>213286352</th>\n",
              "      <td>0</td>\n",
              "    </tr>\n",
              "    <tr>\n",
              "      <th>213293973</th>\n",
              "      <td>0</td>\n",
              "    </tr>\n",
              "    <tr>\n",
              "      <th>213294622</th>\n",
              "      <td>1</td>\n",
              "    </tr>\n",
              "    <tr>\n",
              "      <th>213298687</th>\n",
              "      <td>1</td>\n",
              "    </tr>\n",
              "  </tbody>\n",
              "</table>\n",
              "</div>"
            ],
            "text/plain": [
              "           prediction\n",
              "tripid               \n",
              "213284604           1\n",
              "213286352           0\n",
              "213293973           0\n",
              "213294622           1\n",
              "213298687           1"
            ]
          },
          "metadata": {
            "tags": []
          },
          "execution_count": 64
        }
      ]
    },
    {
      "cell_type": "code",
      "metadata": {
        "id": "UvPw8rxoiCQl",
        "colab_type": "code",
        "colab": {}
      },
      "source": [
        "# Make sure we have the rows in the same order\n",
        "np.testing.assert_array_equal(test_features_df.index.values, \n",
        "                              submission_df.index.values)"
      ],
      "execution_count": 0,
      "outputs": []
    },
    {
      "cell_type": "code",
      "metadata": {
        "id": "TEwjq-7kpJeL",
        "colab_type": "code",
        "outputId": "c72099e4-2092-42bf-cdc0-9c4db981fdb0",
        "colab": {
          "base_uri": "https://localhost:8080/",
          "height": 235
        }
      },
      "source": [
        "# Save predictions to submission data frame\n",
        "submission_df[\"prediction\"] = test_score1\n",
        "\n",
        "submission_df.head()"
      ],
      "execution_count": 66,
      "outputs": [
        {
          "output_type": "execute_result",
          "data": {
            "text/html": [
              "<div>\n",
              "<style scoped>\n",
              "    .dataframe tbody tr th:only-of-type {\n",
              "        vertical-align: middle;\n",
              "    }\n",
              "\n",
              "    .dataframe tbody tr th {\n",
              "        vertical-align: top;\n",
              "    }\n",
              "\n",
              "    .dataframe thead th {\n",
              "        text-align: right;\n",
              "    }\n",
              "</style>\n",
              "<table border=\"1\" class=\"dataframe\">\n",
              "  <thead>\n",
              "    <tr style=\"text-align: right;\">\n",
              "      <th></th>\n",
              "      <th>prediction</th>\n",
              "    </tr>\n",
              "    <tr>\n",
              "      <th>tripid</th>\n",
              "      <th></th>\n",
              "    </tr>\n",
              "  </thead>\n",
              "  <tbody>\n",
              "    <tr>\n",
              "      <th>213284604</th>\n",
              "      <td>1</td>\n",
              "    </tr>\n",
              "    <tr>\n",
              "      <th>213286352</th>\n",
              "      <td>1</td>\n",
              "    </tr>\n",
              "    <tr>\n",
              "      <th>213293973</th>\n",
              "      <td>1</td>\n",
              "    </tr>\n",
              "    <tr>\n",
              "      <th>213294622</th>\n",
              "      <td>1</td>\n",
              "    </tr>\n",
              "    <tr>\n",
              "      <th>213298687</th>\n",
              "      <td>1</td>\n",
              "    </tr>\n",
              "  </tbody>\n",
              "</table>\n",
              "</div>"
            ],
            "text/plain": [
              "           prediction\n",
              "tripid               \n",
              "213284604           1\n",
              "213286352           1\n",
              "213293973           1\n",
              "213294622           1\n",
              "213298687           1"
            ]
          },
          "metadata": {
            "tags": []
          },
          "execution_count": 66
        }
      ]
    },
    {
      "cell_type": "code",
      "metadata": {
        "id": "BLdRLhxmiRxv",
        "colab_type": "code",
        "colab": {}
      },
      "source": [
        "submission_df.to_csv('my_submission3.csv', index=True)"
      ],
      "execution_count": 0,
      "outputs": []
    },
    {
      "cell_type": "code",
      "metadata": {
        "id": "857C_uo-iUuO",
        "colab_type": "code",
        "outputId": "d4f5b994-c531-4dfd-ad8f-7b39e59e73be",
        "colab": {
          "base_uri": "https://localhost:8080/",
          "height": 187
        }
      },
      "source": [
        "!head my_submission3.csv"
      ],
      "execution_count": 68,
      "outputs": [
        {
          "output_type": "stream",
          "text": [
            "tripid,prediction\n",
            "213284604,1\n",
            "213286352,1\n",
            "213293973,1\n",
            "213294622,1\n",
            "213298687,1\n",
            "213299545,1\n",
            "213302332,1\n",
            "213302671,1\n",
            "213305594,1\n"
          ],
          "name": "stdout"
        }
      ]
    },
    {
      "cell_type": "code",
      "metadata": {
        "id": "bQ2qmZiTYfeh",
        "colab_type": "code",
        "colab": {}
      },
      "source": [
        "# X_train.label\n",
        "# dfs = np.split(X_train, [12], axis=1)\n",
        "# X_train_features=dfs[0]\n",
        "# y_train_labels=dfs[1]"
      ],
      "execution_count": 0,
      "outputs": []
    },
    {
      "cell_type": "code",
      "metadata": {
        "id": "hmpwkxuhNCnr",
        "colab_type": "code",
        "colab": {}
      },
      "source": [
        "# X_eval.label\n",
        "# dfs = np.split(X_eval, [12], axis=1)\n",
        "# X_eval_features=dfs[0]\n",
        "# y_eval_labels=dfs[1]"
      ],
      "execution_count": 0,
      "outputs": []
    }
  ]
}